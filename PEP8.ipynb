{
 "cells": [
  {
   "cell_type": "code",
   "execution_count": 14,
   "id": "7921d1a5-3c77-4feb-a68e-7878ea507640",
   "metadata": {},
   "outputs": [
    {
     "data": {
      "text/plain": [
       "autopep8.FixPEP8"
      ]
     },
     "execution_count": 14,
     "metadata": {},
     "output_type": "execute_result"
    }
   ],
   "source": [
    "import autopep8\n",
    "\n",
    "autopep8.FixPEP8"
   ]
  },
  {
   "cell_type": "code",
   "execution_count": 15,
   "id": "e6793457-513b-4d18-88ca-52b32b24e974",
   "metadata": {},
   "outputs": [
    {
     "ename": "SyntaxError",
     "evalue": "invalid syntax (<ipython-input-15-56914fd96dbb>, line 1)",
     "output_type": "error",
     "traceback": [
      "\u001b[1;36m  File \u001b[1;32m\"<ipython-input-15-56914fd96dbb>\"\u001b[1;36m, line \u001b[1;32m1\u001b[0m\n\u001b[1;33m    autopep8.apply_global_fixes(source='Documents',options=, where='global', filename='P5_01_notebookAnalyse.ipynb', codes=None)\u001b[0m\n\u001b[1;37m                                                           ^\u001b[0m\n\u001b[1;31mSyntaxError\u001b[0m\u001b[1;31m:\u001b[0m invalid syntax\n"
     ]
    }
   ],
   "source": [
    "autopep8.apply_global_fixes(source='Documents',options=, where='global', filename='P5_01_notebookAnalyse.ipynb', codes=None)"
   ]
  },
  {
   "cell_type": "code",
   "execution_count": 16,
   "id": "6f7a12fb-f551-4f02-8e38-eb532a64abef",
   "metadata": {},
   "outputs": [],
   "source": [
    "import black"
   ]
  },
  {
   "cell_type": "code",
   "execution_count": 13,
   "id": "f8ed433e-8f54-4521-885c-9491a2fe1087",
   "metadata": {},
   "outputs": [
    {
     "ename": "SyntaxError",
     "evalue": "invalid syntax (<ipython-input-13-4081f4c065fb>, line 1)",
     "output_type": "error",
     "traceback": [
      "\u001b[1;36m  File \u001b[1;32m\"<ipython-input-13-4081f4c065fb>\"\u001b[1;36m, line \u001b[1;32m1\u001b[0m\n\u001b[1;33m    black {(r\"C:\\Users\\daris\\Downloads\\P5_01_notebookAnalyse.py\")}\u001b[0m\n\u001b[1;37m          ^\u001b[0m\n\u001b[1;31mSyntaxError\u001b[0m\u001b[1;31m:\u001b[0m invalid syntax\n"
     ]
    }
   ],
   "source": []
  },
  {
   "cell_type": "code",
   "execution_count": null,
   "id": "949e8db2-0a30-47c2-8a7b-924d520f657c",
   "metadata": {},
   "outputs": [],
   "source": []
  }
 ],
 "metadata": {
  "kernelspec": {
   "display_name": "Python 3",
   "language": "python",
   "name": "python3"
  },
  "language_info": {
   "codemirror_mode": {
    "name": "ipython",
    "version": 3
   },
   "file_extension": ".py",
   "mimetype": "text/x-python",
   "name": "python",
   "nbconvert_exporter": "python",
   "pygments_lexer": "ipython3",
   "version": "3.8.8"
  }
 },
 "nbformat": 4,
 "nbformat_minor": 5
}
